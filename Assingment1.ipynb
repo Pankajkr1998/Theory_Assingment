{
 "cells": [
  {
   "cell_type": "code",
   "execution_count": null,
   "id": "63972a51",
   "metadata": {},
   "outputs": [],
   "source": [
    "1. In the below elements which of them are values or an expression? eg:- values can be integer or string and expressions will be mathematical operators.\n",
    "* \n",
    "'hello'\n",
    "-87.8\n",
    "- \n",
    "/ \n",
    "+\t\n",
    "6 \n",
    "Answer:   Values = ‘hello’, -87.8, 6\n",
    "          Expression = *, /, +, -\n",
    "        \n",
    "2. What is the difference between string and variable?\n",
    "Answer: Difference between string and variable is that string is information which is stored in variable under single or double quote, whereas variable is used to store information.\n",
    "\n",
    "3. Describe three different data types.\n",
    "Answer: Three different types of datatypes are:\n",
    "a) List: In list the values are stored in square bracket []. And we can excess the element in the list through index and we can update the value also.\n",
    "b) Tuple: In tuple the values are stored in common bracket (). And we can excess the element in the tuple through index but we cannot update the value once it is assigned.\n",
    "c) Dictionary: In dictionary the values are stored in key value pair and in curly bracket {}. And the stored values are changeable.\n",
    "\n",
    "4. What is an expression made up of? What do all expressions do?\n",
    "Answer: Expression is combination of values, variables, operators, and call to function.\n",
    "\n",
    "5. This assignment statements, like spam = 10. What is the difference between an expression and a statement?\n",
    "\n",
    "6. After running the following code, what does the variable bacon contain?\n",
    "bacon = 22\n",
    "bacon + 1\n",
    "Answer: Here 22 is stored in the variable bacon, when we type bacon+1\n",
    "Then it will add the value\n",
    "So, bacon+1 = 22+1= 23\n",
    "\n",
    "7. What should the values of the following two terms be?\n",
    "'spam' + 'spamspam' = ‘spamspamspam’\n",
    "'spam' * 3 =’spamspamspam’\n",
    "\n",
    "8. Why is eggs a valid variable name while 100 is invalid?\n",
    "Answer: Because value of variable cannot start with number.\n",
    "\n",
    "9. What three functions can be used to get the integer, floating-point number, or string version of a value?\n",
    "Answer: The function for integer is int()\n",
    "Floating-print number is float()\n",
    "String is str()\n",
    "\n",
    "10. Why does this expression cause an error? How can you fix it?\n",
    "'I have eaten ' + 99 + ' burritos.'\n",
    "Answer: Here 'I have eaten ' and ' burritos’ are string and +99+ is an integer. To make it correct and executable put +99+ in double quote or single quote, after that it will also behave like string. Now we can execute the program.\n",
    "Output: ‘I have eaten 99 burritos.’\n",
    "\n",
    "\n",
    "\n",
    "\n"
   ]
  }
 ],
 "metadata": {
  "kernelspec": {
   "display_name": "Python 3 (ipykernel)",
   "language": "python",
   "name": "python3"
  },
  "language_info": {
   "codemirror_mode": {
    "name": "ipython",
    "version": 3
   },
   "file_extension": ".py",
   "mimetype": "text/x-python",
   "name": "python",
   "nbconvert_exporter": "python",
   "pygments_lexer": "ipython3",
   "version": "3.9.12"
  }
 },
 "nbformat": 4,
 "nbformat_minor": 5
}
